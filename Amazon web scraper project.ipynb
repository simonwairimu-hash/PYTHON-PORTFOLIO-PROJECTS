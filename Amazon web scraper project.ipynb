{
 "cells": [
  {
   "cell_type": "code",
   "execution_count": 4,
   "id": "cfee9f6e-e0d6-4fc7-b5f6-ccff94983fbd",
   "metadata": {},
   "outputs": [],
   "source": [
    "# import libraries\n",
    "\n",
    "from bs4 import BeautifulSoup\n",
    "import requests\n",
    "import time\n",
    "import datetime\n",
    "\n",
    "import smtplib"
   ]
  },
  {
   "cell_type": "code",
   "execution_count": 88,
   "id": "b4fb5c81-a8ec-4aa5-93af-21fc3bd042f5",
   "metadata": {},
   "outputs": [
    {
     "name": "stdout",
     "output_type": "stream",
     "text": [
      "Got Data Funny Business Data Analyst T-Shirt\n",
      "$15.99\n"
     ]
    }
   ],
   "source": [
    "# connect to website\n",
    "\n",
    "URL = 'https://www.amazon.com/Funny-Data-Systems-Business-Analyst/dp/B07FNW9FGJ/ref=sr_1_6?crid=3TDFI2376NEW8&dib=eyJ2IjoiMSJ9.AaDNC_s6hHSl-w9q0OKx5j92zA63y9onNDE5DghtUSbD8s6u95H8W7IO46J9roI_gJw1cwf84jT7hpcRFQUZs-nO31px7Sdg8IzFvyg6mKRAcrLXh2ioS5ul2V9GiND6JZML0cFDNGveJJylfyVLu7Z4vMWaBm9mGtunj1lQXFOvi-R8FQ_X0BJyG6rZXJX6Kg0JicVOUgE7LX5pXjz6fr_y9NO8t2Duj5OFKyKMc2idXjoZ04g3eyPJm1udGICwG4DZWOCqfgWWLUutvKgbjkdXQUwa8WLwMmouvGxreVM.BsP3QMbJBcpScPFgsZoa96NhpdV8hl7ZexM8KjISf0g&dib_tag=se&keywords=data%2Banalyst%2Btshirt&qid=1744825877&sprefix=data%2Banalyst%2Btshirt%2Caps%2C339&sr=8-6'\n",
    "\n",
    "headers = {\"User-Agent\": \"Mozilla/5.0 (Windows NT 10.0; Win64; x64) AppleWebKit/537.36 (KHTML, like Gecko) Chrome/135.0.0.0 Safari/537.36\",\"Accept-Encoding\":\"gzip, deflate\", \"Accept\":\"text/html,application/xhtml+xml;q=0.9,*/*;q=0.8\",\"DNT\":\"1\",\"Connection\":\"close\", \"Upgrade-Insecure-Requests\":\"1\"}\n",
    "\n",
    "page = requests.get(URL, headers=headers)\n",
    "\n",
    "Soup1 = BeautifulSoup(page.content, \"html.parser\")\n",
    "\n",
    "Soup2 = BeautifulSoup(Soup1.prettify(), \"html.parser\")\n",
    "\n",
    "# title = Soup2.find(id='productTitle').get_text()\n",
    "\n",
    "title = Soup2.find(id='productTitle').text.strip().replace('\\n', '').replace('  ', '')\n",
    "\n",
    "price = '$' + Soup2.find('span', class_='a-price-whole').text.strip().replace('\\n', '').replace(' ', '') + Soup2.find('span', class_='a-price-fraction').text.strip()\n",
    "\n",
    "print(title)\n",
    "\n",
    "print(price)\n",
    "\n",
    "\n",
    "\n"
   ]
  },
  {
   "cell_type": "code",
   "execution_count": 89,
   "id": "c6880f2a-5c29-403d-a6fd-0768a63d64da",
   "metadata": {},
   "outputs": [
    {
     "name": "stdout",
     "output_type": "stream",
     "text": [
      "Got Data Funny Business Data Analyst T-Shirt\n",
      "15.99\n"
     ]
    },
    {
     "data": {
      "text/plain": [
       "str"
      ]
     },
     "execution_count": 89,
     "metadata": {},
     "output_type": "execute_result"
    }
   ],
   "source": [
    "price = price.strip()[1:]\n",
    "\n",
    "title = title.strip()\n",
    "\n",
    "print(title)\n",
    "print(price)\n",
    "type(price)"
   ]
  },
  {
   "cell_type": "code",
   "execution_count": 92,
   "id": "dabd56cc-4991-453b-8ebf-537093b0afbb",
   "metadata": {},
   "outputs": [
    {
     "name": "stdout",
     "output_type": "stream",
     "text": [
      "2025-04-17\n"
     ]
    }
   ],
   "source": [
    "import datetime\n",
    "\n",
    "today = datetime.date.today()\n",
    "\n",
    "print(today)"
   ]
  },
  {
   "cell_type": "code",
   "execution_count": 94,
   "id": "a8ccfbf9-49a9-4707-9eb9-b17e2abbc70f",
   "metadata": {},
   "outputs": [],
   "source": [
    "import csv\n",
    "\n",
    "header = ['Title','Price','Date']\n",
    "\n",
    "data = [title, price, today]\n",
    "\n",
    "\n",
    "with open('AmazonWebScraperDataset.csv','w', newline='',encoding='UTF8') as f:\n",
    "    writer = csv.writer(f)\n",
    "    writer.writerow(header)\n",
    "    writer.writerow(data)\n",
    "\n",
    "\n",
    "\n",
    "    "
   ]
  },
  {
   "cell_type": "code",
   "execution_count": 102,
   "id": "1497a25f-17bf-45c7-bd00-4e8c9fc4e301",
   "metadata": {},
   "outputs": [
    {
     "name": "stdout",
     "output_type": "stream",
     "text": [
      "                                          Title  Price        Date\n",
      "0  Got Data Funny Business Data Analyst T-Shirt  15.99  2025-04-17\n",
      "1  Got Data Funny Business Data Analyst T-Shirt  15.99  2025-04-17\n"
     ]
    }
   ],
   "source": [
    "import pandas as pd\n",
    "\n",
    "df = pd.read_csv(r'C:\\Users\\user\\AmazonWebScraperDataset.csv')\n",
    "\n",
    "print(df)"
   ]
  },
  {
   "cell_type": "code",
   "execution_count": 100,
   "id": "311d761e-eb23-4f5a-9847-8b94203403eb",
   "metadata": {},
   "outputs": [],
   "source": [
    "# appending data in the cvs  file\n",
    "\n",
    "with open('AmazonWebScraperDataset.csv','a+', newline='',encoding='UTF8') as f:\n",
    "    writer = csv.writer(f)\n",
    "    writer.writerow(data)"
   ]
  },
  {
   "cell_type": "code",
   "execution_count": 104,
   "id": "4ac20839-3fe2-42b9-a6d2-72952b8229f3",
   "metadata": {},
   "outputs": [],
   "source": [
    "\n",
    "def check_price():\n",
    "    URL = 'https://www.amazon.com/Funny-Data-Systems-Business-Analyst/dp/B07FNW9FGJ/ref=sr_1_6?crid=3TDFI2376NEW8&dib=eyJ2IjoiMSJ9.AaDNC_s6hHSl-w9q0OKx5j92zA63y9onNDE5DghtUSbD8s6u95H8W7IO46J9roI_gJw1cwf84jT7hpcRFQUZs-nO31px7Sdg8IzFvyg6mKRAcrLXh2ioS5ul2V9GiND6JZML0cFDNGveJJylfyVLu7Z4vMWaBm9mGtunj1lQXFOvi-R8FQ_X0BJyG6rZXJX6Kg0JicVOUgE7LX5pXjz6fr_y9NO8t2Duj5OFKyKMc2idXjoZ04g3eyPJm1udGICwG4DZWOCqfgWWLUutvKgbjkdXQUwa8WLwMmouvGxreVM.BsP3QMbJBcpScPFgsZoa96NhpdV8hl7ZexM8KjISf0g&dib_tag=se&keywords=data%2Banalyst%2Btshirt&qid=1744825877&sprefix=data%2Banalyst%2Btshirt%2Caps%2C339&sr=8-6'\n",
    "\n",
    "    headers = {\"User-Agent\": \"Mozilla/5.0 (Windows NT 10.0; Win64; x64) AppleWebKit/537.36 (KHTML, like Gecko) Chrome/135.0.0.0 Safari/537.36\",\"Accept-Encoding\":\"gzip, deflate\", \"Accept\":\"text/html,application/xhtml+xml;q=0.9,*/*;q=0.8\",\"DNT\":\"1\",\"Connection\":\"close\", \"Upgrade-Insecure-Requests\":\"1\"}\n",
    "\n",
    "    page = requests.get(URL, headers=headers)\n",
    "\n",
    "    Soup1 = BeautifulSoup(page.content, \"html.parser\")\n",
    "\n",
    "    Soup2 = BeautifulSoup(Soup1.prettify(), \"html.parser\")\n",
    "\n",
    "    # title = Soup2.find(id='productTitle').get_text()\n",
    "\n",
    "    title = Soup2.find(id='productTitle').text.strip().replace('\\n', '').replace('  ', '')\n",
    "\n",
    "    price = '$' + Soup2.find('span', class_='a-price-whole').text.strip().replace('\\n', '').replace(' ', '') + Soup2.find('span', class_='a-price-fraction').text.strip()\n",
    "\n",
    "    price = price.strip()[1:]\n",
    "\n",
    "    title = title.strip()\n",
    "    \n",
    "    import datetime\n",
    "\n",
    "    today = datetime.date.today()\n",
    "\n",
    "    import csv\n",
    "    \n",
    "    header = ['Title','Price','Date']\n",
    "    \n",
    "    data = [title, price, today]\n",
    "    \n",
    "    with open('AmazonWebScraperDataset.csv','a+', newline='',encoding='UTF8') as f:\n",
    "        writer = csv.writer(f)\n",
    "        \n",
    "        writer.writerow(data)\n",
    "\n",
    "    if(price < 14):\n",
    "        send_mail()"
   ]
  },
  {
   "cell_type": "code",
   "execution_count": null,
   "id": "6cb6be04-0736-496f-9ace-de7050d3ac9c",
   "metadata": {},
   "outputs": [],
   "source": [
    "while(True):\n",
    "    check_price()\n",
    "    time.sleep(86400)"
   ]
  },
  {
   "cell_type": "code",
   "execution_count": 108,
   "id": "b7566326-c6cb-41d4-b474-1437a79eac3d",
   "metadata": {},
   "outputs": [
    {
     "name": "stdout",
     "output_type": "stream",
     "text": [
      "                                          Title  Price        Date\n",
      "0  Got Data Funny Business Data Analyst T-Shirt  15.99  2025-04-17\n",
      "1  Got Data Funny Business Data Analyst T-Shirt  15.99  2025-04-17\n",
      "2  Got Data Funny Business Data Analyst T-Shirt  15.99  2025-04-17\n",
      "3  Got Data Funny Business Data Analyst T-Shirt  15.99  2025-04-17\n",
      "4  Got Data Funny Business Data Analyst T-Shirt  15.99  2025-04-17\n",
      "5  Got Data Funny Business Data Analyst T-Shirt  15.99  2025-04-17\n",
      "6  Got Data Funny Business Data Analyst T-Shirt  15.99  2025-04-17\n"
     ]
    }
   ],
   "source": [
    "import pandas as pd\n",
    "\n",
    "df = pd.read_csv(r'C:\\Users\\user\\AmazonWebScraperDataset.csv')\n",
    "\n",
    "print(df)"
   ]
  },
  {
   "cell_type": "code",
   "execution_count": null,
   "id": "6a4b4487-22b2-4d9b-8bd7-f9875c626533",
   "metadata": {},
   "outputs": [],
   "source": [
    "def send_mail():\n",
    "    server = smtplib.SMTP_SSL('smtp.gmail.com',465)\n",
    "    server.ehlo()\n",
    "    #server.starttls\n",
    "    server.ehlo()\n",
    "    server.login('simonwairimu53@gmail.com', 'xxxxxxxxxxx')\n",
    "    \n",
    "    subject = \"The shirt's price is below 14 dollars\"\n",
    "    body = \"Simon, Your chance to buy\"\n",
    "\n",
    "    msg = f\"Subject: {subject}\\n\\n{body}\"\n",
    "\n",
    "    server.sendmail(\n",
    "        'simonwairimu53@gmail.com',\n",
    "        msg\n",
    "    )"
   ]
  },
  {
   "cell_type": "code",
   "execution_count": null,
   "id": "7f961ca7-3660-45d0-9e05-3cad2c2b8bb2",
   "metadata": {},
   "outputs": [],
   "source": []
  }
 ],
 "metadata": {
  "kernelspec": {
   "display_name": "Python 3 (ipykernel)",
   "language": "python",
   "name": "python3"
  },
  "language_info": {
   "codemirror_mode": {
    "name": "ipython",
    "version": 3
   },
   "file_extension": ".py",
   "mimetype": "text/x-python",
   "name": "python",
   "nbconvert_exporter": "python",
   "pygments_lexer": "ipython3",
   "version": "3.12.7"
  }
 },
 "nbformat": 4,
 "nbformat_minor": 5
}
